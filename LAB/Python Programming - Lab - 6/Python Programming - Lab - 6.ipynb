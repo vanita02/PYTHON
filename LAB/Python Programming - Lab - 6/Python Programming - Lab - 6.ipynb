{
 "cells": [
  {
   "attachments": {},
   "cell_type": "markdown",
   "metadata": {},
   "source": [
    "<a href='https://www.darshan.ac.in/'> <img src='https://www.darshan.ac.in/Content/media/DU_Logo.svg' width=\"250\" height=\"300\"/></a>\n",
    "<pre>\n",
    "<center><b><h1>Python Programming - 2301CS404</b></center>\n",
    "<center><b><h1>kambariya vanita || 23010101125 || 03-01-2024</b></center>    \n",
    "<pre>"
   ]
  },
  {
   "cell_type": "markdown",
   "metadata": {},
   "source": [
    "# Tuple"
   ]
  },
  {
   "cell_type": "markdown",
   "metadata": {},
   "source": [
    "### 01) WAP to find sum of tuple elements."
   ]
  },
  {
   "cell_type": "code",
   "execution_count": 2,
   "metadata": {},
   "outputs": [
    {
     "name": "stdout",
     "output_type": "stream",
     "text": [
      "100\n"
     ]
    }
   ],
   "source": [
    "t = (10,20,30,40)\n",
    "sum = 0\n",
    "for i in t:\n",
    "    sum = sum+i\n",
    "print(sum)"
   ]
  },
  {
   "cell_type": "markdown",
   "metadata": {},
   "source": [
    "### 02) WAP to find Maximum and Minimum K elements in a given tuple."
   ]
  },
  {
   "cell_type": "code",
   "execution_count": 25,
   "metadata": {},
   "outputs": [
    {
     "name": "stdin",
     "output_type": "stream",
     "text": [
      "enter number :  2\n"
     ]
    },
    {
     "name": "stdout",
     "output_type": "stream",
     "text": [
      "max element : [100, 90]\n",
      "min element : [10, 20]\n"
     ]
    }
   ],
   "source": [
    "t = (10,40,20,60.5,100,90,80,50)\n",
    "k = int(input('enter number : '))\n",
    "count=0\n",
    "t = sorted(t)\n",
    "print(f'max element : {t[:-1+(-k):-1]}')\n",
    "print(f'min element : {t[:k]}')"
   ]
  },
  {
   "cell_type": "markdown",
   "metadata": {},
   "source": [
    "### 03) WAP to find tuples which have all elements divisible by K from a list of tuples."
   ]
  },
  {
   "cell_type": "code",
   "execution_count": 9,
   "metadata": {},
   "outputs": [
    {
     "name": "stdin",
     "output_type": "stream",
     "text": [
      "enter number :  2\n"
     ]
    },
    {
     "name": "stdout",
     "output_type": "stream",
     "text": [
      "(4, 8, 16)\n"
     ]
    }
   ],
   "source": [
    "l = [(2,5,2),(3,9,27),(4,8,16)]\n",
    "k = int(input('enter number : '))\n",
    "for i in l:\n",
    "    d = True\n",
    "    for j in i:\n",
    "        if(j%k!=0):\n",
    "            d = False\n",
    "            break; \n",
    "    if(d==True):\n",
    "        print(i)"
   ]
  },
  {
   "cell_type": "markdown",
   "metadata": {},
   "source": [
    "### 04) WAP to create a list of tuples from given list having number and its cube in each tuple."
   ]
  },
  {
   "cell_type": "code",
   "execution_count": 4,
   "metadata": {},
   "outputs": [
    {
     "name": "stdout",
     "output_type": "stream",
     "text": [
      "[(1, 1), (5, 125), (6, 216), (3, 27), (2, 8), (4, 64)]\n"
     ]
    }
   ],
   "source": [
    "a=[1,5,6,3,2,4]\n",
    "t=[(i,i**3) for i in a]\n",
    "print(t)"
   ]
  },
  {
   "cell_type": "markdown",
   "metadata": {},
   "source": [
    "### 05) WAP to find tuples with all positive elements from the given list of tuples."
   ]
  },
  {
   "cell_type": "code",
   "execution_count": 6,
   "metadata": {},
   "outputs": [
    {
     "name": "stdout",
     "output_type": "stream",
     "text": [
      "(8, 0, 8)\n",
      "(1, 4, 56)\n"
     ]
    }
   ],
   "source": [
    "a=[(1,2,-3),(8,0,8),(2,4,-6,8,1),(1,4,56,)]\n",
    "for i in a :\n",
    "    flag=True\n",
    "    for j in i :\n",
    "        if(j<0):\n",
    "            flag=False\n",
    "            break;\n",
    "    if(flag==True):\n",
    "        print(i)"
   ]
  },
  {
   "cell_type": "markdown",
   "metadata": {},
   "source": [
    "### 06) WAP to add tuple to list and vice – versa."
   ]
  },
  {
   "cell_type": "code",
   "execution_count": 59,
   "metadata": {},
   "outputs": [
    {
     "name": "stdout",
     "output_type": "stream",
     "text": [
      "tuple to list : \n",
      "[1, 2, 3, (4, 5, 6)]\n",
      "list to tuple : \n",
      "(4, 5, 6, [1, 2, 3, (4, 5, 6)])\n"
     ]
    }
   ],
   "source": [
    "a=[1,2,3]\n",
    "b=(4,5,6)\n",
    "\n",
    "#TUPLE TO LIST\n",
    "a.append(b)\n",
    "print('tuple to list : ')\n",
    "print(a)\n",
    "\n",
    "#LIST TO TUPLE\n",
    "b = b+(a,)\n",
    "print('list to tuple : ')\n",
    "print(b)"
   ]
  },
  {
   "cell_type": "markdown",
   "metadata": {},
   "source": [
    "### 07) WAP to remove tuples of length K."
   ]
  },
  {
   "cell_type": "code",
   "execution_count": 11,
   "metadata": {},
   "outputs": [
    {
     "name": "stdin",
     "output_type": "stream",
     "text": [
      "enter k 3\n"
     ]
    },
    {
     "name": "stdout",
     "output_type": "stream",
     "text": [
      "[(2, 3, 5, 5), (5, 1, 2, 6), (5, 9, 6, 8, 4)]\n"
     ]
    }
   ],
   "source": [
    "a=[(1,2,3),(8,0,9),(2,3,5,5),(5,1,2,6),(5,9,6,8,4)]\n",
    "k=int(input(\"enter k\"))\n",
    "a = [i for i in a if len(i) != k]\n",
    "print(a)"
   ]
  },
  {
   "cell_type": "markdown",
   "metadata": {},
   "source": [
    "### 08) WAP to remove duplicates from tuple."
   ]
  },
  {
   "cell_type": "code",
   "execution_count": 10,
   "metadata": {},
   "outputs": [
    {
     "name": "stdout",
     "output_type": "stream",
     "text": [
      "[1, 2, 3, 5, 6, 9, 15, 8, 4]\n"
     ]
    }
   ],
   "source": [
    "a=(1,5,2,3,5,6,9,15,8,4)\n",
    "temp=list(a)\n",
    "i=0\n",
    "while(i<len(temp)):\n",
    "    if(temp[i] in temp[i+1:]):\n",
    "       temp.remove(temp[i])\n",
    "    else:\n",
    "        i=i+1\n",
    "print(temp)"
   ]
  },
  {
   "cell_type": "markdown",
   "metadata": {},
   "source": [
    "### 09) WAP to multiply adjacent elements of a tuple and print that resultant tuple."
   ]
  },
  {
   "cell_type": "code",
   "execution_count": 12,
   "metadata": {},
   "outputs": [
    {
     "name": "stdout",
     "output_type": "stream",
     "text": [
      "(5, 10, 6, 15, 30, 54, 135, 120, 32)\n"
     ]
    }
   ],
   "source": [
    "a=(1,5,2,3,5,6,9,15,8,4)\n",
    "result=()\n",
    "for i in range(len(a)-1):  \n",
    "    result += (a[i] * a[i+1],) \n",
    "print(result)"
   ]
  },
  {
   "cell_type": "markdown",
   "metadata": {},
   "source": [
    "### 10) WAP to test if the given tuple is distinct or not."
   ]
  },
  {
   "cell_type": "code",
   "execution_count": 14,
   "metadata": {},
   "outputs": [
    {
     "name": "stdout",
     "output_type": "stream",
     "text": [
      "not distint\n"
     ]
    }
   ],
   "source": [
    "a=(1,5,2,3,5,6,9,15,8,4)\n",
    "# a=(1,23,4,56,7,89,)\n",
    "flag=True\n",
    "for i in a:\n",
    "    if(a.count(i)!=1):\n",
    "        flag=False\n",
    "if flag==True:\n",
    "    print('distinct')\n",
    "else:\n",
    "    print('not distint')"
   ]
  }
 ],
 "metadata": {
  "kernelspec": {
   "display_name": "Python 3 (ipykernel)",
   "language": "python",
   "name": "python3"
  },
  "language_info": {
   "codemirror_mode": {
    "name": "ipython",
    "version": 3
   },
   "file_extension": ".py",
   "mimetype": "text/x-python",
   "name": "python",
   "nbconvert_exporter": "python",
   "pygments_lexer": "ipython3",
   "version": "3.12.7"
  }
 },
 "nbformat": 4,
 "nbformat_minor": 4
}
