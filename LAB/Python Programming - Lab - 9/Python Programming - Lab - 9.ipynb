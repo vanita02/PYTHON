{
 "cells": [
  {
   "cell_type": "markdown",
   "metadata": {},
   "source": [
    "<a href='https://www.darshan.ac.in/'> <img src='https://www.darshan.ac.in/Content/media/DU_Logo.svg' width=\"250\" height=\"300\"/></a>\n",
    "<pre>\n",
    "<center><b><h1>Python Programming - 2301CS404</b></center>\n",
    "<center><b><h1>kambariya vanita || 23010101125 || 24-01-2025</b></center>    \n",
    "<pre>"
   ]
  },
  {
   "cell_type": "markdown",
   "metadata": {},
   "source": [
    "# File I/O"
   ]
  },
  {
   "cell_type": "markdown",
   "metadata": {},
   "source": [
    "### 01) WAP to read and display the contents of a text file. (also try to open the file in some other directory) \n",
    "#### - in the form of a string\n",
    "#### - line by line\n",
    "#### - in the form of a list"
   ]
  },
  {
   "cell_type": "code",
   "execution_count": 37,
   "metadata": {},
   "outputs": [
    {
     "name": "stdout",
     "output_type": "stream",
     "text": [
      "['- in the form of a string\\n', '- line by line\\n', '- in the form of a list  ']\n"
     ]
    }
   ],
   "source": [
    "fp = open(\"file1.txt\",\"r\");\n",
    "print(fp.readlines())\n",
    "fp.close()"
   ]
  },
  {
   "cell_type": "markdown",
   "metadata": {},
   "source": [
    "### 02) WAP to create file named \"new.txt\" only if it doesn't exist."
   ]
  },
  {
   "cell_type": "code",
   "execution_count": 27,
   "metadata": {},
   "outputs": [],
   "source": [
    "fp = open('new1.txt','x')\n"
   ]
  },
  {
   "cell_type": "markdown",
   "metadata": {},
   "source": [
    "### 03) WAP to read first 5 lines from the text file."
   ]
  },
  {
   "cell_type": "code",
   "execution_count": 45,
   "metadata": {},
   "outputs": [
    {
     "name": "stdout",
     "output_type": "stream",
     "text": [
      "hello everyone !!\n",
      "\n",
      "hiiiiii\n",
      "\n",
      "hello students\n",
      "\n",
      "hello world\n",
      "\n",
      "thank you\n",
      "\n"
     ]
    }
   ],
   "source": [
    "fp = open('new.txt','r')\n",
    "for i in range(0,5):\n",
    "    print(fp.readline())\n",
    "\n",
    "fp.close()"
   ]
  },
  {
   "cell_type": "markdown",
   "metadata": {},
   "source": [
    "### 04) WAP to find the longest word(s) in a file"
   ]
  },
  {
   "cell_type": "code",
   "execution_count": 1,
   "metadata": {},
   "outputs": [
    {
     "name": "stdout",
     "output_type": "stream",
     "text": [
      "students\n",
      "\n"
     ]
    }
   ],
   "source": [
    "fp = open('new.txt','r')\n",
    "max_length = 0\n",
    "data = fp.readlines()\n",
    "data1 = []\n",
    "for i in data:\n",
    "    i = i.split(\" \")\n",
    "    for j in i:\n",
    "        data1.append(j)\n",
    "    for i in data1:\n",
    "        if(len(i)>max_length):\n",
    "            max_length=len(i)\n",
    "            w = i\n",
    "print(w)\n",
    "fp.close()"
   ]
  },
  {
   "cell_type": "markdown",
   "metadata": {},
   "source": [
    "### 05) WAP to count the no. of lines, words and characters in a given text file."
   ]
  },
  {
   "cell_type": "code",
   "execution_count": 3,
   "metadata": {},
   "outputs": [
    {
     "name": "stdout",
     "output_type": "stream",
     "text": [
      "line count :  6\n",
      "word count :  13\n",
      "character count :  73\n"
     ]
    }
   ],
   "source": [
    "fp = open('new.txt','r')\n",
    "l_count=0\n",
    "w_count=0\n",
    "c_count=0\n",
    "\n",
    "#line count\n",
    "data = fp.readlines()\n",
    "print('line count : ',len(data))\n",
    "\n",
    "#word count\n",
    "data1=[]\n",
    "for i in data:\n",
    "    for j in i.split(\" \"):\n",
    "        data1.append(j)\n",
    "print('word count : ',len(data1))\n",
    "\n",
    "#character count\n",
    "data2=[]\n",
    "for i in data:\n",
    "    for j in i:\n",
    "        data2.append(j)\n",
    "print('character count : ',len(data2))\n",
    "fp.close()"
   ]
  },
  {
   "cell_type": "markdown",
   "metadata": {},
   "source": [
    "### 06) WAP to copy the content of a file to the another file."
   ]
  },
  {
   "cell_type": "code",
   "execution_count": 156,
   "metadata": {},
   "outputs": [
    {
     "name": "stdout",
     "output_type": "stream",
     "text": [
      "\n",
      "hello everyone !!\n",
      "hiiiiii\n",
      "hello students\n",
      "hello world\n",
      "thank you\n",
      "bye bye !!\n"
     ]
    }
   ],
   "source": [
    "fp = open('new.txt','r')\n",
    "data = fp.read()\n",
    "fp1 = open('copy.txt','w+')\n",
    "fp1.write(data)\n",
    "fp1.close()\n",
    "fp.close()\n",
    "fp= open('copy.txt','r')\n",
    "print(fp.read())\n",
    "fp.close()"
   ]
  },
  {
   "cell_type": "markdown",
   "metadata": {},
   "source": [
    "### 07) WAP to find the size of the text file. "
   ]
  },
  {
   "cell_type": "code",
   "execution_count": 160,
   "metadata": {},
   "outputs": [
    {
     "name": "stdout",
     "output_type": "stream",
     "text": [
      "73\n"
     ]
    }
   ],
   "source": [
    "fp = open('new.txt','r')\n",
    "data = fp.read()\n",
    "print(len(data))\n",
    "fp.close()"
   ]
  },
  {
   "cell_type": "markdown",
   "metadata": {},
   "source": [
    "### 08) WAP to create an UDF named frequency to count occurances of the specific word in a given text file."
   ]
  },
  {
   "cell_type": "code",
   "execution_count": 190,
   "metadata": {},
   "outputs": [
    {
     "name": "stdout",
     "output_type": "stream",
     "text": [
      "3\n"
     ]
    }
   ],
   "source": [
    "def frequency_count(filename,word):\n",
    "    fp= open(filename,'r')\n",
    "    data = fp.read()\n",
    "    data = data.split(word)\n",
    "    print(len(data)-1)\n",
    "    fp.close() \n",
    "frequency_count('new.txt','hello')"
   ]
  },
  {
   "cell_type": "markdown",
   "metadata": {},
   "source": [
    "### 09) WAP to get the score of five subjects from the user, store them in a file. Fetch those marks and find the highest score."
   ]
  },
  {
   "cell_type": "code",
   "execution_count": 5,
   "metadata": {},
   "outputs": [
    {
     "name": "stdin",
     "output_type": "stream",
     "text": [
      "Enter score for subject 1:  10\n",
      "Enter score for subject 2:  10\n",
      "Enter score for subject 3:  10\n",
      "Enter score for subject 4:  10\n",
      "Enter score for subject 5:  10\n"
     ]
    },
    {
     "name": "stdout",
     "output_type": "stream",
     "text": [
      "Highest score: 10\n"
     ]
    }
   ],
   "source": [
    "file = open(\"scores.txt\", \"w\")\n",
    "for i in range(5):\n",
    "    score = input(f\"Enter score for subject {i + 1}: \")\n",
    "    file.write(score + \"\\n\")\n",
    "file.close()\n",
    "\n",
    "file = open(\"scores.txt\", \"r\")\n",
    "scores = [int(line.strip()) for line in file.readlines()]\n",
    "file.close()\n",
    "\n",
    "highest_score = max(scores)\n",
    "print(f\"Highest score: {highest_score}\")\n",
    "\n"
   ]
  },
  {
   "cell_type": "markdown",
   "metadata": {},
   "source": [
    "### 10) WAP to write first 100 prime numbers to a file named primenumbers.txt \n",
    "(Note: each number should be in new line)"
   ]
  },
  {
   "cell_type": "code",
   "execution_count": 9,
   "metadata": {},
   "outputs": [],
   "source": [
    "file = open(\"primenumbers.txt\", \"w\")\n",
    "count = 0\n",
    "num = 2\n",
    "\n",
    "while count < 100:\n",
    "    is_prime = True\n",
    "    if num < 2:\n",
    "        is_prime = False\n",
    "    else:\n",
    "        for i in range(2, int(num ** 0.5) + 1):\n",
    "            if num % i == 0:\n",
    "                is_prime = False\n",
    "                break\n",
    "    if is_prime:\n",
    "        file.write(str(num) + \"\\n\")\n",
    "        count += 1\n",
    "    num += 1\n",
    "\n",
    "file.close()\n"
   ]
  },
  {
   "cell_type": "markdown",
   "metadata": {},
   "source": [
    "### 11) WAP to merge two files and write it in a new file."
   ]
  },
  {
   "cell_type": "code",
   "execution_count": 13,
   "metadata": {},
   "outputs": [],
   "source": [
    "file1 = open(\"new.txt\", \"r\")\n",
    "file2 = open(\"new1.txt\", \"r\")\n",
    "merged_file = open(\"merged_file.txt\", \"w\")\n",
    "\n",
    "data1 = file1.read()\n",
    "data2 = file2.read()\n",
    "\n",
    "merged_file.write(data1 + \"\\n\" + data2)\n",
    "\n",
    "file1.close()\n",
    "file2.close()\n",
    "merged_file.close()\n"
   ]
  },
  {
   "cell_type": "markdown",
   "metadata": {},
   "source": [
    "### 12) WAP to replace word1 by word2 of a text file. Write the updated data to new file."
   ]
  },
  {
   "cell_type": "code",
   "execution_count": 17,
   "metadata": {},
   "outputs": [
    {
     "name": "stdin",
     "output_type": "stream",
     "text": [
      "Enter the word to be replaced:  hello\n",
      "Enter the new word:  hiiiiiiiiiiiiiiiiiiiiiiiii\n"
     ]
    }
   ],
   "source": [
    "file = open(\"new.txt\", \"r\")\n",
    "data = file.read()\n",
    "file.close()\n",
    "\n",
    "word1 = input(\"Enter the word to be replaced: \")\n",
    "word2 = input(\"Enter the new word: \")\n",
    "\n",
    "updated_data = data.replace(word1, word2)\n",
    "\n",
    "new_file = open(\"updated_file.txt\", \"w\")\n",
    "new_file.write(updated_data)\n",
    "new_file.close()\n"
   ]
  },
  {
   "cell_type": "markdown",
   "metadata": {},
   "source": [
    "### 13) Demonstrate tell() and seek() for all the cases(seek from beginning-end-current position) taking a suitable example of your choice."
   ]
  },
  {
   "cell_type": "code",
   "execution_count": 23,
   "metadata": {},
   "outputs": [
    {
     "name": "stdout",
     "output_type": "stream",
     "text": [
      "Initial Position: 0\n",
      "Position after seeking from beginning (offset 10): 10\n",
      "Data at position 10: s is \n",
      "Position after seeking from current position (offset 5): 20\n",
      "Data at new position: ple t\n",
      "Position after seeking from end (offset -10): 49\n",
      "Data at new position: nd te\n"
     ]
    }
   ],
   "source": [
    "with open(\"example.txt\", \"w\") as file:\n",
    "    file.write(\"Hello, this is a sample text for testing seek() and tell().\")\n",
    "\n",
    "with open(\"example.txt\", \"rb\") as file:\n",
    "    print(f\"Initial Position: {file.tell()}\")\n",
    "\n",
    "    file.seek(10, 0)\n",
    "    print(f\"Position after seeking from beginning (offset 10): {file.tell()}\")\n",
    "    print(f\"Data at position 10: {file.read(5).decode()}\")\n",
    "\n",
    "    file.seek(5, 1)\n",
    "    print(f\"Position after seeking from current position (offset 5): {file.tell()}\")\n",
    "    print(f\"Data at new position: {file.read(5).decode()}\")\n",
    "\n",
    "    file.seek(-10, 2)\n",
    "    print(f\"Position after seeking from end (offset -10): {file.tell()}\")\n",
    "    print(f\"Data at new position: {file.read(5).decode()}\")\n"
   ]
  }
 ],
 "metadata": {
  "kernelspec": {
   "display_name": "Python 3 (ipykernel)",
   "language": "python",
   "name": "python3"
  },
  "language_info": {
   "codemirror_mode": {
    "name": "ipython",
    "version": 3
   },
   "file_extension": ".py",
   "mimetype": "text/x-python",
   "name": "python",
   "nbconvert_exporter": "python",
   "pygments_lexer": "ipython3",
   "version": "3.12.7"
  }
 },
 "nbformat": 4,
 "nbformat_minor": 4
}
