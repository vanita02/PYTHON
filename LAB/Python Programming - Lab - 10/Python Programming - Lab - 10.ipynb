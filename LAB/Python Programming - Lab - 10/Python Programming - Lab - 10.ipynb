{
 "cells": [
  {
   "cell_type": "markdown",
   "metadata": {},
   "source": [
    "<a href='https://www.darshan.ac.in/'> <img src='https://www.darshan.ac.in/Content/media/DU_Logo.svg' width=\"250\" height=\"300\"/></a>\n",
    "<pre>\n",
    "<center><b><h1>Python Programming - 2301CS404</b></center>\n",
    "<center><b><h1>kambariya vanita || 23010101125 || 31-01-2025</b></center>    \n",
    "<pre>"
   ]
  },
  {
   "cell_type": "markdown",
   "metadata": {},
   "source": [
    "# Exception Handling"
   ]
  },
  {
   "cell_type": "markdown",
   "metadata": {},
   "source": [
    "### 01) WAP to handle following exceptions:\n",
    "1. ZeroDivisionError\n",
    "2. ValueError\n",
    "3. TypeError\n",
    "#### Note: handle them using separate except blocks and also using single except block too."
   ]
  },
  {
   "cell_type": "code",
   "execution_count": 22,
   "metadata": {},
   "outputs": [
    {
     "name": "stdin",
     "output_type": "stream",
     "text": [
      "Enter a :  12\n",
      "Enter b :  0\n"
     ]
    },
    {
     "name": "stdout",
     "output_type": "stream",
     "text": [
      "cannot divide by zero\n"
     ]
    }
   ],
   "source": [
    "try:\n",
    "    a = int(input('Enter a : '))\n",
    "    b = int(input('Enter b : '))\n",
    "    # c = input('Enter c : ')\n",
    "    # print(a+b+c)\n",
    "    print(a/b)\n",
    "except ZeroDivisionError :\n",
    "    print('cannot divide by zero')\n",
    "except ValueError : \n",
    "    print('Value Error')\n",
    "except TypeError :\n",
    "    print('Type Error')"
   ]
  },
  {
   "cell_type": "markdown",
   "metadata": {},
   "source": [
    "### 02)  WAP to handle following exceptions:\n",
    "1. IndexError\n",
    "2. KeyError"
   ]
  },
  {
   "cell_type": "code",
   "execution_count": 34,
   "metadata": {},
   "outputs": [
    {
     "name": "stdout",
     "output_type": "stream",
     "text": [
      "Key Not Found\n",
      "Length is Out Of Bound\n"
     ]
    }
   ],
   "source": [
    "try:\n",
    "    d = {1:'a',2:'b',3:'c'}\n",
    "    print(d[4])\n",
    "except KeyError : \n",
    "    print('Key Not Found')\n",
    "\n",
    "\n",
    "try:\n",
    "    l = [1,2,3,4]\n",
    "    print(l[4])\n",
    "except IndexError : \n",
    "    print('Length is Out Of Bound')"
   ]
  },
  {
   "cell_type": "markdown",
   "metadata": {},
   "source": [
    "### 03) WAP to handle following exceptions:\n",
    "1. FileNotFoundError\n",
    "2. ModuleNotFoundError"
   ]
  },
  {
   "cell_type": "code",
   "execution_count": 48,
   "metadata": {},
   "outputs": [
    {
     "name": "stdout",
     "output_type": "stream",
     "text": [
      "File Not Found\n",
      "Module Not Found\n"
     ]
    }
   ],
   "source": [
    "try:\n",
    "    fp = open('abc.txt','r')\n",
    "    print(fp.read())\n",
    "except FileNotFoundError :\n",
    "    print('File Not Found')\n",
    "\n",
    "\n",
    "try:\n",
    "    import maths\n",
    "except ModuleNotFoundError :\n",
    "    print('Module Not Found')"
   ]
  },
  {
   "cell_type": "markdown",
   "metadata": {},
   "source": [
    "### 04) WAP that catches all type of exceptions in a single except block."
   ]
  },
  {
   "cell_type": "code",
   "execution_count": 66,
   "metadata": {},
   "outputs": [
    {
     "name": "stdout",
     "output_type": "stream",
     "text": [
      "TypeError:unsupported operand type(s) for +: 'int' and 'str'\n"
     ]
    }
   ],
   "source": [
    "try:\n",
    "    a=10\n",
    "    b=0\n",
    "    c='a'\n",
    "    print(a+c)\n",
    "    print(a/b)\n",
    "except Exception as err:\n",
    "    print(type(err).__name__+':'+str(err))"
   ]
  },
  {
   "cell_type": "markdown",
   "metadata": {},
   "source": [
    "### 05) WAP to demonstrate else  and finally block."
   ]
  },
  {
   "cell_type": "code",
   "execution_count": 68,
   "metadata": {},
   "outputs": [
    {
     "name": "stdout",
     "output_type": "stream",
     "text": [
      "FileNotFoundError:[Errno 2] No such file or directory: 'abc.txt'\n",
      "Byee Byee\n"
     ]
    }
   ],
   "source": [
    "try:\n",
    "    fp = open('abc.txt','r')\n",
    "except FileNotFoundError as err :\n",
    "    print(type(err).__name__+':'+str(err))\n",
    "else:\n",
    "    print(fp.read())\n",
    "    fp.close()\n",
    "finally:\n",
    "    print('Byee Byee')"
   ]
  },
  {
   "cell_type": "markdown",
   "metadata": {},
   "source": [
    "### 06) Create a short program that prompts the user for a list of grades separated by commas. \n",
    "### Split the string into individual grades and use a list comprehension to convert each string to an integer. \n",
    "### You should use a try statement to inform the user when the values they entered cannot be converted."
   ]
  },
  {
   "cell_type": "code",
   "execution_count": 74,
   "metadata": {},
   "outputs": [
    {
     "name": "stdin",
     "output_type": "stream",
     "text": [
      "enter grades sepereted by comaas :  a,v,1,2\n"
     ]
    },
    {
     "name": "stdout",
     "output_type": "stream",
     "text": [
      "ValueError:invalid literal for int() with base 10: 'a'\n"
     ]
    }
   ],
   "source": [
    "try:\n",
    "    grade = input('enter grades sepereted by comaas : ');\n",
    "    a = grade.split(',')\n",
    "    l = [int(i) for i in a]\n",
    "    print(l)\n",
    "except Exception as err :\n",
    "    print(type(err).__name__+':'+str(err))"
   ]
  },
  {
   "cell_type": "markdown",
   "metadata": {},
   "source": [
    "### 07) WAP to create an udf divide(a,b) that handles ZeroDivisionError."
   ]
  },
  {
   "cell_type": "code",
   "execution_count": 96,
   "metadata": {},
   "outputs": [
    {
     "name": "stdout",
     "output_type": "stream",
     "text": [
      "ZeroDivisionError : division by zero\n"
     ]
    }
   ],
   "source": [
    "def divisionFunction(a,b):\n",
    "    try:\n",
    "            print(a/b)\n",
    "    except Exception as err :\n",
    "        print(type(err).__name__+' : '+str(err))\n",
    "divisionFunction(10,0)"
   ]
  },
  {
   "cell_type": "markdown",
   "metadata": {},
   "source": [
    "### 08) WAP that gets an age of a person form the user and raises ValueError with error message: \"Enter Valid Age\" :\n",
    "#### If the age is less than 18. \n",
    "#### otherwise print the age."
   ]
  },
  {
   "cell_type": "code",
   "execution_count": 119,
   "metadata": {},
   "outputs": [
    {
     "name": "stdin",
     "output_type": "stream",
     "text": [
      "Enter Age :  19\n"
     ]
    },
    {
     "name": "stdout",
     "output_type": "stream",
     "text": [
      "19\n"
     ]
    }
   ],
   "source": [
    "try:\n",
    "    age = int(input('Enter Age : '))\n",
    "    if(age>18):\n",
    "        print(age)\n",
    "    else:\n",
    "        raise ValueError()\n",
    "except Exception as err : \n",
    "        print('Enter Valid ')"
   ]
  },
  {
   "cell_type": "markdown",
   "metadata": {},
   "source": [
    "### 09) WAP to raise your custom Exception named InvalidUsernameError with the error message : \"Username must be between 5 and 15 characters long\":\n",
    "#### if the given name is having characters less than 5 or greater than 15.\n",
    "#### otherwise print the given username."
   ]
  },
  {
   "cell_type": "code",
   "execution_count": 3,
   "metadata": {},
   "outputs": [
    {
     "name": "stdin",
     "output_type": "stream",
     "text": [
      "Enter User Name :  vani\n"
     ]
    },
    {
     "name": "stdout",
     "output_type": "stream",
     "text": [
      "Username must be between 5 and 15 characters long\n"
     ]
    }
   ],
   "source": [
    "class InvalidUsernameError(Exception):\n",
    "    def __init__(self,msg):\n",
    "        self.msg = msg\n",
    "try:\n",
    "    userName = input('Enter User Name : ')\n",
    "    if(len(userName)>5 and len(userName)<15):\n",
    "        print(userName)\n",
    "    else:\n",
    "        raise InvalidUsernameError('Username must be between 5 and 15 characters long')\n",
    "except Exception as err : \n",
    "        print(err)"
   ]
  },
  {
   "cell_type": "markdown",
   "metadata": {},
   "source": [
    "### 10) WAP to raise your custom Exception named NegativeNumberError with the error message : \"Cannot calculate the square root of a negative number\" :\n",
    "#### if the given number is negative.\n",
    "#### otherwise print the square root of the given number."
   ]
  },
  {
   "cell_type": "code",
   "execution_count": 115,
   "metadata": {},
   "outputs": [
    {
     "name": "stdin",
     "output_type": "stream",
     "text": [
      "Enter number :  2\n"
     ]
    },
    {
     "name": "stdout",
     "output_type": "stream",
     "text": [
      "1.4142135623730951\n"
     ]
    }
   ],
   "source": [
    "class NegativeNumberError(Exception):\n",
    "    def __init__(self,msg):\n",
    "        self.msg = msg\n",
    "try:\n",
    "    n = int(input('Enter number : '))\n",
    "    if(n>=0):\n",
    "        print(n**0.5)\n",
    "    else:\n",
    "        raise NegativeNumberError('Cannot calculate the square root of a negative number')\n",
    "except Exception as err : \n",
    "        print(err)"
   ]
  }
 ],
 "metadata": {
  "kernelspec": {
   "display_name": "Python 3 (ipykernel)",
   "language": "python",
   "name": "python3"
  },
  "language_info": {
   "codemirror_mode": {
    "name": "ipython",
    "version": 3
   },
   "file_extension": ".py",
   "mimetype": "text/x-python",
   "name": "python",
   "nbconvert_exporter": "python",
   "pygments_lexer": "ipython3",
   "version": "3.12.7"
  }
 },
 "nbformat": 4,
 "nbformat_minor": 4
}
