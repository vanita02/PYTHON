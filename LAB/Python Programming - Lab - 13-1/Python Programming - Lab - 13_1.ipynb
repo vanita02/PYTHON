{
 "cells": [
  {
   "cell_type": "markdown",
   "metadata": {},
   "source": [
    "<a href='https://www.darshan.ac.in/'> <img src='https://www.darshan.ac.in/Content/media/DU_Logo.svg' width=\"250\" height=\"300\"/></a>\n",
    "<pre>\n",
    "<center><b><h1>Python Programming - 2301CS404</b></center>\n",
    "<center><b><h1>kambariya vanita || 23010101125 || 07-03-2025</b></center>    \n",
    "<pre>"
   ]
  },
  {
   "cell_type": "markdown",
   "metadata": {},
   "source": [
    "# OOP"
   ]
  },
  {
   "cell_type": "markdown",
   "metadata": {},
   "source": [
    "### 01) Write a Program to create a class by name Students, and initialize attributes like name, age, and grade while creating an object."
   ]
  },
  {
   "cell_type": "code",
   "execution_count": 4,
   "metadata": {},
   "outputs": [
    {
     "name": "stdout",
     "output_type": "stream",
     "text": [
      "vanita\n",
      "18\n",
      "A\n"
     ]
    }
   ],
   "source": [
    "class Students:\n",
    "    def __init__(self,name,age,grade):\n",
    "        self.name=name\n",
    "        self.age=age\n",
    "        self.grade=grade\n",
    "\n",
    "obj = Students('vanita','18','A')\n",
    "print(obj.name)\n",
    "print(obj.age)\n",
    "print(obj.grade)"
   ]
  },
  {
   "cell_type": "markdown",
   "metadata": {},
   "source": [
    "### 02) Create a class named Bank_Account with Account_No, User_Name, Email,Account_Type and Account_Balance data members. Also create a method GetAccountDetails() and DisplayAccountDetails(). Create main method to demonstrate the Bank_Account class."
   ]
  },
  {
   "cell_type": "code",
   "execution_count": 50,
   "metadata": {},
   "outputs": [
    {
     "name": "stdin",
     "output_type": "stream",
     "text": [
      "enter Account_No :  1\n",
      "enter User_Name :  123\n",
      "enter Email :  1234\n",
      "enter Account_Type :  12345\n",
      "enter Account_Balance :  12345\n"
     ]
    },
    {
     "name": "stdout",
     "output_type": "stream",
     "text": [
      "1\n",
      "123\n",
      "1234\n",
      "12345\n",
      "12345\n"
     ]
    }
   ],
   "source": [
    "class Bank_Account:\n",
    "    # def __init__(self,Account_No,User_Name,Email,Account_Type,Account_Balance):\n",
    "    #     self.Account_No=Account_No\n",
    "    #     self.User_Name=User_Name\n",
    "    #     self.Email=Email\n",
    "    #     self.Account_Type=Account_Type\n",
    "    #     self.Account_Balance=Account_Balance\n",
    "\n",
    "    \n",
    "    def GetAccountDetails(self):\n",
    "        self.Account_No=input('enter Account_No : ')\n",
    "        self.User_Name=input('enter User_Name : ')\n",
    "        self.Email=input('enter Email : ')\n",
    "        self.Account_Type=input('enter Account_Type : ')\n",
    "        self.Account_Balance=input('enter Account_Balance : ')\n",
    "        \n",
    "    def DisplayAccountDetails(obj):\n",
    "        print(obj.Account_No)\n",
    "        print(obj.User_Name)\n",
    "        print(obj.Email)\n",
    "        print(obj.Account_Type)\n",
    "        print(obj.Account_Balance)\n",
    "\n",
    "        \n",
    "\n",
    "b = Bank_Account()\n",
    "b.GetAccountDetails()\n",
    "b.DisplayAccountDetails()"
   ]
  },
  {
   "cell_type": "markdown",
   "metadata": {},
   "source": [
    "### 03) WAP to create Circle class with area and perimeter function to find area and perimeter of circle."
   ]
  },
  {
   "cell_type": "code",
   "execution_count": 64,
   "metadata": {},
   "outputs": [
    {
     "name": "stdout",
     "output_type": "stream",
     "text": [
      "78.53981633974483\n",
      "31.41592653589793\n"
     ]
    }
   ],
   "source": [
    "import math\n",
    "class Circle:\n",
    "    def __init__(self,r):\n",
    "        self.r=r\n",
    "    \n",
    "    def area(self):\n",
    "        print(math.pi*self.r*self.r)\n",
    "    def perimeter(self):\n",
    "        print(2*math.pi*self.r)\n",
    "\n",
    "c = Circle(5)\n",
    "c.area()\n",
    "c.perimeter()"
   ]
  },
  {
   "cell_type": "markdown",
   "metadata": {},
   "source": [
    "### 04) Create a class for employees that includes attributes such as name, age, salary, and methods to update and display employee information."
   ]
  },
  {
   "cell_type": "code",
   "execution_count": 80,
   "metadata": {},
   "outputs": [
    {
     "name": "stdout",
     "output_type": "stream",
     "text": [
      "vanita\n",
      "18\n",
      "100000000\n"
     ]
    },
    {
     "name": "stdin",
     "output_type": "stream",
     "text": [
      " khushi\n",
      " 90\n",
      " 10\n"
     ]
    },
    {
     "name": "stdout",
     "output_type": "stream",
     "text": [
      "==========updated data===========\n",
      "khushi\n",
      "90\n",
      "10\n"
     ]
    }
   ],
   "source": [
    "class Emplyoee:\n",
    "    def __init__ (self,name,age,salary):\n",
    "        self.name=name\n",
    "        self.age=age\n",
    "        self.salary=salary\n",
    "\n",
    "    def display(self):\n",
    "        print(self.name)\n",
    "        print(self.age)\n",
    "        print(self.salary)\n",
    "\n",
    "    def update(self):\n",
    "        self.name = input()\n",
    "        self.age = int(input())\n",
    "        self.salary = int(input())\n",
    "        print('==========updated data===========')\n",
    "\n",
    "e=Emplyoee('vanita',18,100000000)\n",
    "e.display()\n",
    "e.update()\n",
    "e.display()"
   ]
  },
  {
   "cell_type": "markdown",
   "metadata": {},
   "source": [
    "### 05) Create a bank account class with methods to deposit, withdraw, and check balance."
   ]
  },
  {
   "cell_type": "code",
   "execution_count": 86,
   "metadata": {},
   "outputs": [
    {
     "name": "stdout",
     "output_type": "stream",
     "text": [
      "10010\n",
      "9990\n"
     ]
    }
   ],
   "source": [
    "class Bank:\n",
    "    def __init__(self,balance):\n",
    "        self.balance=balance\n",
    "    def deposit(self,x):\n",
    "        self.balance=self.balance+x\n",
    "        print(self.balance)\n",
    "    def withdraw(self,y):\n",
    "        if(y>self.balance):\n",
    "            print('not withdraw')\n",
    "        else:\n",
    "            self.balance=self.balance-y\n",
    "\n",
    "        print(self.balance)\n",
    "\n",
    "bank = Bank(10000)\n",
    "bank.deposit(10)\n",
    "bank.withdraw(20)"
   ]
  },
  {
   "cell_type": "markdown",
   "metadata": {},
   "source": [
    "### 06) Create a class for managing inventory that includes attributes such as item name, price, quantity, and methods to add, remove, and update items."
   ]
  },
  {
   "cell_type": "code",
   "execution_count": 1,
   "metadata": {},
   "outputs": [
    {
     "name": "stdout",
     "output_type": "stream",
     "text": [
      "5 of 'Laptop' added/updated. Current stock: 5\n",
      "20 of 'Mouse' added/updated. Current stock: 20\n",
      "\n",
      "Current Inventory:\n",
      "Laptop - Price: $1000.00, Quantity: 5\n",
      "Mouse - Price: $25.00, Quantity: 20\n",
      "\n",
      "'Mouse' updated. Price: 30, Quantity: 20\n",
      "2 of 'Laptop' removed. Remaining stock: 3\n",
      "\n",
      "Current Inventory:\n",
      "Laptop - Price: $1000.00, Quantity: 3\n",
      "Mouse - Price: $30.00, Quantity: 20\n",
      "\n"
     ]
    }
   ],
   "source": [
    "class Inventory:\n",
    "    def __init__(self):\n",
    "        self.items = {}\n",
    "\n",
    "    def add_item(self, name, price, quantity):\n",
    "        if name in self.items:\n",
    "            self.items[name]['quantity'] += quantity\n",
    "            self.items[name]['price'] = price\n",
    "        else:\n",
    "            self.items[name] = {'price': price, 'quantity': quantity}\n",
    "        print(f\"{quantity} of '{name}' added/updated. Current stock: {self.items[name]['quantity']}\")\n",
    "\n",
    "    def remove_item(self, name, quantity):\n",
    "        if name in self.items:\n",
    "            if self.items[name]['quantity'] >= quantity:\n",
    "                self.items[name]['quantity'] -= quantity\n",
    "                print(f\"{quantity} of '{name}' removed. Remaining stock: {self.items[name]['quantity']}\")\n",
    "                if self.items[name]['quantity'] == 0:\n",
    "                    del self.items[name]\n",
    "                    print(f\"'{name}' is now out of stock and removed from inventory.\")\n",
    "            else:\n",
    "                print(f\"Not enough '{name}' in stock to remove {quantity}. Current stock: {self.items[name]['quantity']}\")\n",
    "        else:\n",
    "            print(f\"'{name}' not found in inventory.\")\n",
    "\n",
    "    def update_item(self, name, price=None, quantity=None):\n",
    "        if name in self.items:\n",
    "            if price is not None:\n",
    "                self.items[name]['price'] = price\n",
    "            if quantity is not None:\n",
    "                self.items[name]['quantity'] = quantity\n",
    "            print(f\"'{name}' updated. Price: {self.items[name]['price']}, Quantity: {self.items[name]['quantity']}\")\n",
    "        else:\n",
    "            print(f\"'{name}' not found in inventory.\")\n",
    "\n",
    "    def display_inventory(self):\n",
    "        if not self.items:\n",
    "            print(\"Inventory is empty.\")\n",
    "        else:\n",
    "            print(\"\\nCurrent Inventory:\")\n",
    "            for name, details in self.items.items():\n",
    "                print(f\"{name} - Price: ${details['price']:.2f}, Quantity: {details['quantity']}\")\n",
    "        print()\n",
    "\n",
    "inventory = Inventory()\n",
    "inventory.add_item(\"Laptop\", 1000, 5)\n",
    "inventory.add_item(\"Mouse\", 25, 20)\n",
    "inventory.display_inventory()\n",
    "inventory.update_item(\"Mouse\", price=30)\n",
    "inventory.remove_item(\"Laptop\", 2)\n",
    "inventory.display_inventory()\n"
   ]
  },
  {
   "cell_type": "markdown",
   "metadata": {},
   "source": [
    "### 07) Create a Class with instance attributes of your choice."
   ]
  },
  {
   "cell_type": "code",
   "execution_count": 3,
   "metadata": {},
   "outputs": [
    {
     "name": "stdout",
     "output_type": "stream",
     "text": [
      "2022 Toyota Camry - Color: Blue\n",
      "2022 Toyota Camry is starting.\n",
      "2022 Toyota Camry is stopping.\n"
     ]
    }
   ],
   "source": [
    "class Car:\n",
    "    def __init__(self, make, model, year, color):\n",
    "        self.make = make\n",
    "        self.model = model\n",
    "        self.year = year\n",
    "        self.color = color\n",
    "    \n",
    "    def start(self):\n",
    "        print(f\"{self.year} {self.make} {self.model} is starting.\")\n",
    "\n",
    "    def stop(self):\n",
    "        print(f\"{self.year} {self.make} {self.model} is stopping.\")\n",
    "\n",
    "    def display_info(self):\n",
    "        print(f\"{self.year} {self.make} {self.model} - Color: {self.color}\")\n",
    "\n",
    "car = Car(\"Toyota\", \"Camry\", 2022, \"Blue\")\n",
    "car.display_info()\n",
    "car.start()\n",
    "car.stop()\n"
   ]
  },
  {
   "cell_type": "markdown",
   "metadata": {},
   "source": [
    "### 08) Create one class student_kit\n",
    "#### Within the student_kit class create one class attribute principal name ( Mr ABC )\n",
    "#### Create one attendance method and take input as number of days.\n",
    "#### While creating student take input their name .\n",
    "#### Create one certificate for each student by taking input of number of days present in class."
   ]
  },
  {
   "cell_type": "code",
   "execution_count": 92,
   "metadata": {},
   "outputs": [
    {
     "name": "stdin",
     "output_type": "stream",
     "text": [
      "enter days 1\n"
     ]
    },
    {
     "name": "stdout",
     "output_type": "stream",
     "text": [
      "----------- | KHUSHI |   1  days present   | VANITA |--------------\n"
     ]
    }
   ],
   "source": [
    "class student_kit:\n",
    "    principal='VANITA'\n",
    "    def __init__(self,name):\n",
    "        self.name=name;\n",
    "    def attendace(self):\n",
    "        self.day=int(input(\"enter days\"))\n",
    "    def certificate(self):\n",
    "        print(f'----------- | {self.name} |   {self.day }  days present   | {self.principal} |--------------');\n",
    "s=student_kit('KHUSHI')\n",
    "s.attendace()\n",
    "s.certificate()"
   ]
  },
  {
   "cell_type": "markdown",
   "metadata": {},
   "source": [
    "### 09) Define Time class with hour and minute as data member. Also define addition method to add two time objects."
   ]
  },
  {
   "cell_type": "code",
   "execution_count": 5,
   "metadata": {},
   "outputs": [
    {
     "name": "stdout",
     "output_type": "stream",
     "text": [
      "04:15\n"
     ]
    }
   ],
   "source": [
    "class Time:\n",
    "    def __init__(self, hour, minute):\n",
    "        self.hour = hour\n",
    "        self.minute = minute\n",
    "\n",
    "    def add(self, other):\n",
    "        total_minutes = self.minute + other.minute\n",
    "        total_hours = self.hour + other.hour + (total_minutes // 60)\n",
    "        total_minutes %= 60\n",
    "        return Time(total_hours, total_minutes)\n",
    "\n",
    "    def display(self):\n",
    "        print(f\"{self.hour:02}:{self.minute:02}\")\n",
    "\n",
    "time1 = Time(2, 45)\n",
    "time2 = Time(1, 30)\n",
    "result = time1.add(time2)\n",
    "result.display()\n"
   ]
  }
 ],
 "metadata": {
  "kernelspec": {
   "display_name": "Python 3 (ipykernel)",
   "language": "python",
   "name": "python3"
  },
  "language_info": {
   "codemirror_mode": {
    "name": "ipython",
    "version": 3
   },
   "file_extension": ".py",
   "mimetype": "text/x-python",
   "name": "python",
   "nbconvert_exporter": "python",
   "pygments_lexer": "ipython3",
   "version": "3.12.7"
  }
 },
 "nbformat": 4,
 "nbformat_minor": 4
}
