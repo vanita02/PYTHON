{
 "cells": [
  {
   "cell_type": "markdown",
   "metadata": {},
   "source": [
    "<a href='https://www.darshan.ac.in/'> <img src='https://www.darshan.ac.in/Content/media/DU_Logo.svg' width=\"250\" height=\"300\"/></a>\n",
    "<pre>\n",
    "<center><b><h1>Python Programming - 2301CS404</b></center>\n",
    "<center><b><h1>kambariya vanita || 23010101125 || 17-01-2025</b></center>    \n",
    "<pre>"
   ]
  },
  {
   "cell_type": "markdown",
   "metadata": {},
   "source": [
    "# User Defined Function"
   ]
  },
  {
   "cell_type": "markdown",
   "metadata": {},
   "source": [
    "### 01) Write a function to calculate BMI given mass and height. (BMI = mass/h**2)"
   ]
  },
  {
   "cell_type": "code",
   "execution_count": 16,
   "metadata": {},
   "outputs": [
    {
     "name": "stdout",
     "output_type": "stream",
     "text": [
      "0.0016330381768036\n"
     ]
    }
   ],
   "source": [
    "def bmiCalculate(mass,h):\n",
    "    print(mass/(h**2))\n",
    "bmiCalculate(45,166)"
   ]
  },
  {
   "cell_type": "markdown",
   "metadata": {},
   "source": [
    "### 02) Write a function that add first n numbers."
   ]
  },
  {
   "cell_type": "code",
   "execution_count": 18,
   "metadata": {},
   "outputs": [
    {
     "name": "stdout",
     "output_type": "stream",
     "text": [
      "15\n"
     ]
    }
   ],
   "source": [
    "def addNumber(n):\n",
    "    sum=0\n",
    "    for i in range(n+1):\n",
    "        sum=sum+i\n",
    "    print(sum)\n",
    "\n",
    "addNumber(5)"
   ]
  },
  {
   "cell_type": "markdown",
   "metadata": {},
   "source": [
    "### 03) Write a function that returns 1 if the given number is Prime or 0 otherwise."
   ]
  },
  {
   "cell_type": "code",
   "execution_count": 40,
   "metadata": {},
   "outputs": [
    {
     "data": {
      "text/plain": [
       "1"
      ]
     },
     "execution_count": 40,
     "metadata": {},
     "output_type": "execute_result"
    }
   ],
   "source": [
    "def primeNumber(n):\n",
    "    count=2\n",
    "    for i in range(2,n-1):\n",
    "        if(n%i==0):\n",
    "            count+=1;\n",
    "        else:\n",
    "            break;\n",
    "    if(count>2):\n",
    "        return 0;\n",
    "    else:\n",
    "        return 1;\n",
    "\n",
    "primeNumber(7)"
   ]
  },
  {
   "cell_type": "markdown",
   "metadata": {},
   "source": [
    "### 04) Write a function that returns the list of Prime numbers between given two numbers."
   ]
  },
  {
   "cell_type": "code",
   "execution_count": 8,
   "metadata": {},
   "outputs": [
    {
     "name": "stdout",
     "output_type": "stream",
     "text": [
      "[1, 2, 3, 5, 7]\n"
     ]
    }
   ],
   "source": [
    "def primeNumberList(a,b,):\n",
    "    li=[]\n",
    "    for i in range(a,b+1):\n",
    "        count=2;\n",
    "        for j in range(2,i):\n",
    "            if(i%j==0):\n",
    "                count+=1\n",
    "                break;\n",
    "        if(count==2):\n",
    "            li.append(i)\n",
    "    print(li)\n",
    "    \n",
    "primeNumberList(1,10)"
   ]
  },
  {
   "cell_type": "markdown",
   "metadata": {},
   "source": [
    "### 05) Write a function that returns True if the given string is Palindrome or False otherwise."
   ]
  },
  {
   "cell_type": "code",
   "execution_count": 109,
   "metadata": {},
   "outputs": [
    {
     "data": {
      "text/plain": [
       "'not palindrom'"
      ]
     },
     "execution_count": 109,
     "metadata": {},
     "output_type": "execute_result"
    }
   ],
   "source": [
    "def palindromString(s1):\n",
    "    s2 = s1[::-1]\n",
    "    if(s1==s2):\n",
    "        return 'palindrom';\n",
    "    else:\n",
    "        return 'not palindrom';\n",
    "palindromString('vanita')"
   ]
  },
  {
   "cell_type": "markdown",
   "metadata": {},
   "source": [
    "### 06) Write a function that returns the sum of all the elements of the list."
   ]
  },
  {
   "cell_type": "code",
   "execution_count": 117,
   "metadata": {},
   "outputs": [
    {
     "name": "stdout",
     "output_type": "stream",
     "text": [
      "list is : [0, 1, 2, 3, 4, 5]\n",
      "sum is : 15\n"
     ]
    }
   ],
   "source": [
    "def sumOfListElement(n):\n",
    "    li=[];\n",
    "    sum=0;\n",
    "    for i in range(n+1):\n",
    "        li.append(i);\n",
    "    print(f'list is : {li}')\n",
    "    for i in li:\n",
    "        sum=sum+i;\n",
    "    print(f'sum is : {sum}')\n",
    "sumOfListElement(5)"
   ]
  },
  {
   "cell_type": "markdown",
   "metadata": {},
   "source": [
    "### 07) Write a function to calculate the sum of the first element of each tuples inside the list."
   ]
  },
  {
   "cell_type": "code",
   "execution_count": 133,
   "metadata": {},
   "outputs": [
    {
     "name": "stdout",
     "output_type": "stream",
     "text": [
      "sum is : 6\n"
     ]
    }
   ],
   "source": [
    "def sumOfTupleInList(n):\n",
    "    li=[(1,2,3),(2,3,4),(3,4,5)]\n",
    "    sum=0;\n",
    "    for i in li:\n",
    "        sum=sum+i[0];\n",
    "    print(f'sum is : {sum}')\n",
    "sumOfTupleInList(3)"
   ]
  },
  {
   "cell_type": "markdown",
   "metadata": {},
   "source": [
    "### 08) Write a recursive function to find nth term of Fibonacci Series."
   ]
  },
  {
   "cell_type": "code",
   "execution_count": 3,
   "metadata": {},
   "outputs": [
    {
     "name": "stdin",
     "output_type": "stream",
     "text": [
      "Enter the value of n:  5\n"
     ]
    },
    {
     "name": "stdout",
     "output_type": "stream",
     "text": [
      "5th term of Fibonacci Series: 3\n"
     ]
    }
   ],
   "source": [
    "def fibonacci(n):\n",
    "    if n <= 0:\n",
    "        return \"Invalid input\"\n",
    "    elif n == 1:\n",
    "        return 0\n",
    "    elif n == 2:\n",
    "        return 1\n",
    "    else:\n",
    "        return fibonacci(n - 1) + fibonacci(n - 2)\n",
    "\n",
    "n = int(input(\"Enter the value of n: \"))\n",
    "result = fibonacci(n)\n",
    "print(f\"{n}th term of Fibonacci Series: {result}\")\n"
   ]
  },
  {
   "cell_type": "markdown",
   "metadata": {},
   "source": [
    "### 09) Write a function to get the name of the student based on the given rollno.\n",
    "#### Example: Given dict1 = {101:'Ajay', 102:'Rahul', 103:'Jay', 104:'Pooja'} find name of student whose rollno = 103"
   ]
  },
  {
   "cell_type": "code",
   "execution_count": 5,
   "metadata": {},
   "outputs": [
    {
     "name": "stdin",
     "output_type": "stream",
     "text": [
      "Enter roll number:  101\n"
     ]
    },
    {
     "name": "stdout",
     "output_type": "stream",
     "text": [
      "Student name: Ajay\n"
     ]
    }
   ],
   "source": [
    "def get_student_name(rollno):\n",
    "    dict1 = {101: 'Ajay', 102: 'Rahul', 103: 'Jay', 104: 'Pooja'}\n",
    "    return dict1.get(rollno, \"Roll number not found\")\n",
    "\n",
    "rollno = int(input(\"Enter roll number: \"))\n",
    "name = get_student_name(rollno)\n",
    "print(f\"Student name: {name}\")\n"
   ]
  },
  {
   "cell_type": "markdown",
   "metadata": {},
   "source": [
    "### 10) Write a function to get the sum of the scores ending with zero.\n",
    "#### Example : scores = [200, 456, 300, 100, 234, 678] \n",
    "#### Ans = 200 + 300 + 100 = 600"
   ]
  },
  {
   "cell_type": "code",
   "execution_count": 147,
   "metadata": {},
   "outputs": [
    {
     "name": "stdout",
     "output_type": "stream",
     "text": [
      "600\n"
     ]
    }
   ],
   "source": [
    "def sumOfScores():\n",
    "    scores = [200, 456, 300, 100, 234, 678];\n",
    "    sum=0;\n",
    "    for i in scores:\n",
    "        if(i%10==0):\n",
    "            sum=sum+i;\n",
    "    print(sum)\n",
    "sumOfScores()"
   ]
  },
  {
   "cell_type": "markdown",
   "metadata": {},
   "source": [
    "### 11) Write a function to invert a given Dictionary.\n",
    "#### hint: keys to values & values to keys\n",
    "#### Before : {'a': 10, 'b':20, 'c':30, 'd':40}\n",
    "#### After : {10:'a', 20:'b', 30:'c', 40:'d'}"
   ]
  },
  {
   "cell_type": "code",
   "execution_count": 7,
   "metadata": {},
   "outputs": [
    {
     "name": "stdout",
     "output_type": "stream",
     "text": [
      "Before: {'a': 10, 'b': 20, 'c': 30, 'd': 40}\n",
      "After: {10: 'a', 20: 'b', 30: 'c', 40: 'd'}\n"
     ]
    }
   ],
   "source": [
    "def invert_dict(d):\n",
    "    return {value: key for key, value in d.items()}\n",
    "\n",
    "dict1 = {'a': 10, 'b': 20, 'c': 30, 'd': 40}\n",
    "inverted_dict = invert_dict(dict1)\n",
    "print(f\"Before: {dict1}\")\n",
    "print(f\"After: {inverted_dict}\")\n"
   ]
  },
  {
   "cell_type": "markdown",
   "metadata": {},
   "source": [
    "### 12) Write a function to check whether the given string is Pangram or not.\n",
    "#### hint: Pangram is a string containing all the characters a-z atlest once.\n",
    "#### \"the quick brown fox jumps over the lazy dog\" is a Pangram string."
   ]
  },
  {
   "cell_type": "code",
   "execution_count": 10,
   "metadata": {},
   "outputs": [
    {
     "data": {
      "text/plain": [
       "'True'"
      ]
     },
     "execution_count": 10,
     "metadata": {},
     "output_type": "execute_result"
    }
   ],
   "source": [
    "def panagramString(s):\n",
    "    for i in s:\n",
    "        if(s.find(ascii(i))):\n",
    "            return 'True'\n",
    "        else:\n",
    "            return 'False'\n",
    "panagramString(\"the quick brown fox jumps over the lazy dog\")"
   ]
  },
  {
   "cell_type": "markdown",
   "metadata": {},
   "source": [
    "### 13) Write a function that returns the number of uppercase and lowercase letters in the given string. \n",
    "#### example : Input : s1 = AbcDEfgh ,Ouptput : no_upper = 3, no_lower = 5"
   ]
  },
  {
   "cell_type": "code",
   "execution_count": 9,
   "metadata": {},
   "outputs": [
    {
     "name": "stdout",
     "output_type": "stream",
     "text": [
      "no_upper = 3, no_lower = 5\n"
     ]
    }
   ],
   "source": [
    "def count_case(s):\n",
    "    no_upper = sum(1 for char in s if char.isupper())\n",
    "    no_lower = sum(1 for char in s if char.islower())\n",
    "    return no_upper, no_lower\n",
    "\n",
    "s1 = \"AbcDEfgh\"\n",
    "no_upper, no_lower = count_case(s1)\n",
    "print(f\"no_upper = {no_upper}, no_lower = {no_lower}\")\n"
   ]
  },
  {
   "cell_type": "markdown",
   "metadata": {},
   "source": [
    "### 14) Write a lambda function to get smallest number from the given two numbers."
   ]
  },
  {
   "cell_type": "code",
   "execution_count": 11,
   "metadata": {},
   "outputs": [
    {
     "name": "stdin",
     "output_type": "stream",
     "text": [
      "Enter first number:  1\n",
      "Enter second number:  2\n"
     ]
    },
    {
     "name": "stdout",
     "output_type": "stream",
     "text": [
      "Smallest number: 1\n"
     ]
    }
   ],
   "source": [
    "smallest = lambda a, b: a if a < b else b\n",
    "\n",
    "a = int(input(\"Enter first number: \"))\n",
    "b = int(input(\"Enter second number: \"))\n",
    "\n",
    "print(f\"Smallest number: {smallest(a, b)}\")\n"
   ]
  },
  {
   "cell_type": "markdown",
   "metadata": {},
   "source": [
    "### 15) For the given list of names of students, extract the names having more that 7 characters. Use filter()."
   ]
  },
  {
   "cell_type": "code",
   "execution_count": 13,
   "metadata": {},
   "outputs": [
    {
     "name": "stdout",
     "output_type": "stream",
     "text": [
      "Names with more than 7 characters: ['Alexander', 'Catherine', 'Elizabeth']\n"
     ]
    }
   ],
   "source": [
    "students = ['Alexander', 'John', 'Catherine', 'Bob', 'Elizabeth', 'Michael']\n",
    "result = list(filter(lambda name: len(name) > 7, students))\n",
    "print(f\"Names with more than 7 characters: {result}\")\n"
   ]
  },
  {
   "cell_type": "markdown",
   "metadata": {},
   "source": [
    "### 16) For the given list of names of students, convert the first letter of all the names into uppercase. use map()."
   ]
  },
  {
   "cell_type": "code",
   "execution_count": 15,
   "metadata": {},
   "outputs": [
    {
     "name": "stdout",
     "output_type": "stream",
     "text": [
      "Names with first letter capitalized: ['Alexander', 'John', 'Catherine', 'Bob', 'Elizabeth', 'Michael']\n"
     ]
    }
   ],
   "source": [
    "students = ['alexander', 'john', 'catherine', 'bob', 'elizabeth', 'michael']\n",
    "result = list(map(lambda name: name.capitalize(), students))\n",
    "print(f\"Names with first letter capitalized: {result}\")\n"
   ]
  },
  {
   "cell_type": "markdown",
   "metadata": {},
   "source": [
    "### 17) Write udfs to call the functions with following types of arguments:\n",
    "1. Positional Arguments\n",
    "2. Keyword Arguments\n",
    "3. Default Arguments\n",
    "4. Variable Legngth Positional(*args) & variable length Keyword Arguments (**kwargs)\n",
    "5. Keyword-Only & Positional Only Arguments"
   ]
  },
  {
   "cell_type": "code",
   "execution_count": 17,
   "metadata": {},
   "outputs": [
    {
     "name": "stdout",
     "output_type": "stream",
     "text": [
      "Positional Arguments: a = 10, b = 20\n",
      "Keyword Arguments: a = 30, b = 40\n",
      "Default Arguments: a = 60, b = 50\n",
      "Default Arguments: a = 60, b = 70\n",
      "Variable Length Positional Arguments: (1, 2, 3, 4, 5)\n",
      "Variable Length Keyword Arguments: {'name': 'Alice', 'age': 25, 'city': 'New York'}\n",
      "Keyword-Only Arguments: a = 10, b = 20\n",
      "Positional-Only Arguments: a = 100, b = 200\n",
      "Positional-Only: a = 10, b = 20\n",
      "Positional or Keyword: c = 30\n",
      "Default: d = 35\n",
      "Variable Positional: (1, 2, 3)\n",
      "Keyword-Only: e = 60, f = 70\n",
      "Variable Keyword: {'x': 100, 'y': 200}\n"
     ]
    }
   ],
   "source": [
    "def positional_args(a, b):\n",
    "    print(f\"Positional Arguments: a = {a}, b = {b}\")\n",
    "\n",
    "positional_args(10, 20)\n",
    "\n",
    "def keyword_args(a, b):\n",
    "    print(f\"Keyword Arguments: a = {a}, b = {b}\")\n",
    "\n",
    "keyword_args(a=30, b=40)\n",
    "\n",
    "def default_args(a, b=50):\n",
    "    print(f\"Default Arguments: a = {a}, b = {b}\")\n",
    "\n",
    "default_args(60)\n",
    "default_args(60, 70)\n",
    "\n",
    "def var_positional_args(*args):\n",
    "    print(f\"Variable Length Positional Arguments: {args}\")\n",
    "\n",
    "var_positional_args(1, 2, 3, 4, 5)\n",
    "\n",
    "def var_keyword_args(**kwargs):\n",
    "    print(f\"Variable Length Keyword Arguments: {kwargs}\")\n",
    "\n",
    "var_keyword_args(name='Alice', age=25, city='New York')\n",
    "\n",
    "def keyword_only(*, a, b):\n",
    "    print(f\"Keyword-Only Arguments: a = {a}, b = {b}\")\n",
    "\n",
    "keyword_only(a=10, b=20)\n",
    "\n",
    "def positional_only(a, b, /):\n",
    "    print(f\"Positional-Only Arguments: a = {a}, b = {b}\")\n",
    "\n",
    "positional_only(100, 200)\n",
    "\n",
    "def all_args(a, b, /, c, d=40, *args, e, f=50, **kwargs):\n",
    "    print(f\"Positional-Only: a = {a}, b = {b}\")\n",
    "    print(f\"Positional or Keyword: c = {c}\")\n",
    "    print(f\"Default: d = {d}\")\n",
    "    print(f\"Variable Positional: {args}\")\n",
    "    print(f\"Keyword-Only: e = {e}, f = {f}\")\n",
    "    print(f\"Variable Keyword: {kwargs}\")\n",
    "\n",
    "all_args(10, 20, 30, 35, 1, 2, 3, e=60, f=70, x=100, y=200)\n"
   ]
  }
 ],
 "metadata": {
  "kernelspec": {
   "display_name": "Python 3 (ipykernel)",
   "language": "python",
   "name": "python3"
  },
  "language_info": {
   "codemirror_mode": {
    "name": "ipython",
    "version": 3
   },
   "file_extension": ".py",
   "mimetype": "text/x-python",
   "name": "python",
   "nbconvert_exporter": "python",
   "pygments_lexer": "ipython3",
   "version": "3.12.7"
  }
 },
 "nbformat": 4,
 "nbformat_minor": 4
}
