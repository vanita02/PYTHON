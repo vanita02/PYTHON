{
 "cells": [
  {
   "cell_type": "markdown",
   "metadata": {},
   "source": [
    "\n",
    "<a href='https://www.darshan.ac.in/'> <img src='https://www.darshan.ac.in/Content/media/DU_Logo.svg' width=\"250\" height=\"300\"/></a>\n",
    "<pre>\n",
    "<center><b><h1>Python Programming - 2301CS404</b></center>\n",
    "<center><b><h1>kambariya vanita || 23010101125 || 6-12-2024</b></center>    \n",
    "<pre>"
   ]
  },
  {
   "cell_type": "markdown",
   "metadata": {},
   "source": [
    "# if..else.."
   ]
  },
  {
   "cell_type": "markdown",
   "metadata": {},
   "source": [
    "### 01) WAP to check whether the given number is positive or negative."
   ]
  },
  {
   "cell_type": "code",
   "execution_count": 4,
   "metadata": {},
   "outputs": [
    {
     "name": "stdin",
     "output_type": "stream",
     "text": [
      "enter a :  -1\n"
     ]
    },
    {
     "name": "stdout",
     "output_type": "stream",
     "text": [
      "number is negative\n"
     ]
    }
   ],
   "source": [
    "a = int(input('enter a : '))\n",
    "print('number is positive') if(a>0) else print('number is negative')"
   ]
  },
  {
   "cell_type": "markdown",
   "metadata": {},
   "source": [
    "### 02) WAP to check whether the given number is odd or even."
   ]
  },
  {
   "cell_type": "code",
   "execution_count": 8,
   "metadata": {},
   "outputs": [
    {
     "name": "stdin",
     "output_type": "stream",
     "text": [
      "enter a :  1\n"
     ]
    },
    {
     "name": "stdout",
     "output_type": "stream",
     "text": [
      "number is odd\n"
     ]
    }
   ],
   "source": [
    "a = int(input('enter a : '))\n",
    "print('number is even') if(a%2==0) else print('number is odd')"
   ]
  },
  {
   "cell_type": "markdown",
   "metadata": {},
   "source": [
    "### 03) WAP to find out largest number from given two numbers using simple if and ternary operator."
   ]
  },
  {
   "cell_type": "code",
   "execution_count": 20,
   "metadata": {},
   "outputs": [
    {
     "name": "stdin",
     "output_type": "stream",
     "text": [
      "enter a :  1\n",
      "enter b :  2\n"
     ]
    },
    {
     "name": "stdout",
     "output_type": "stream",
     "text": [
      "b is largest number\n",
      "b is largest number\n"
     ]
    }
   ],
   "source": [
    "a = int(input('enter a : '))\n",
    "b = int(input('enter b : '))\n",
    "\n",
    "# simple if\n",
    "if(a>b):\n",
    "    print('a is largest number')\n",
    "else :\n",
    "        print('b is largest number')\n",
    "\n",
    "# ternary operator\n",
    "print('a is largest number') if(a>b) else print('b is largest number')"
   ]
  },
  {
   "cell_type": "markdown",
   "metadata": {},
   "source": [
    "### 04) WAP to find out largest number from given three numbers."
   ]
  },
  {
   "cell_type": "code",
   "execution_count": 28,
   "metadata": {},
   "outputs": [
    {
     "name": "stdin",
     "output_type": "stream",
     "text": [
      "enter a :  1\n",
      "enter b :  3\n",
      "enter c :  2\n"
     ]
    },
    {
     "name": "stdout",
     "output_type": "stream",
     "text": [
      "b is largest number\n"
     ]
    }
   ],
   "source": [
    "a = int(input('enter a : '))\n",
    "b = int(input('enter b : '))\n",
    "c = int(input('enter c : '))\n",
    "\n",
    "print('a is largest number') if(a>c) else print('c is largest number') if(a>b) else print('b is largest number') if(b>c) else print('c is largest number')"
   ]
  },
  {
   "cell_type": "markdown",
   "metadata": {},
   "source": [
    "### 05) WAP to check whether the given year is leap year or not.\n",
    "[If a year can be divisible by 4 but not divisible by 100 then it is leap year but if it is divisible by 400 then it is leap year]"
   ]
  },
  {
   "cell_type": "code",
   "execution_count": 40,
   "metadata": {},
   "outputs": [
    {
     "name": "stdin",
     "output_type": "stream",
     "text": [
      "enter a year :  2025\n"
     ]
    },
    {
     "name": "stdout",
     "output_type": "stream",
     "text": [
      "it is not a leap year\n"
     ]
    }
   ],
   "source": [
    "year = int(input('enter a year : '))\n",
    "\n",
    "if ((year%4==0 and year%100!=0) or year%400==0) :\n",
    "    print('it is a leap year')\n",
    "else :\n",
    "        print('it is not a leap year')"
   ]
  },
  {
   "cell_type": "markdown",
   "metadata": {},
   "source": [
    "### 06) WAP in python to display the name of the day according to the number given by the user."
   ]
  },
  {
   "cell_type": "code",
   "execution_count": 48,
   "metadata": {},
   "outputs": [
    {
     "name": "stdin",
     "output_type": "stream",
     "text": [
      "enter a :  8\n"
     ]
    },
    {
     "name": "stdout",
     "output_type": "stream",
     "text": [
      "invalid number\n"
     ]
    }
   ],
   "source": [
    "a = int(input('enter a : '))\n",
    "\n",
    "match (a):\n",
    "    case 0:\n",
    "        print('sunday')\n",
    "    case 1:\n",
    "        print('monday')\n",
    "    case 2:\n",
    "        print('tuesday')\n",
    "    case 3:\n",
    "        print('wednesday')\n",
    "    case 4:\n",
    "        print('thusday')\n",
    "    case 5:\n",
    "        print('friday')\n",
    "    case 6:\n",
    "        print('saturday')\n",
    "    case _:\n",
    "        print('invalid number')"
   ]
  },
  {
   "cell_type": "markdown",
   "metadata": {},
   "source": [
    "### 07) WAP to implement simple calculator which performs (add,sub,mul,div) of two no. based on user input."
   ]
  },
  {
   "cell_type": "code",
   "execution_count": 52,
   "metadata": {},
   "outputs": [
    {
     "name": "stdin",
     "output_type": "stream",
     "text": [
      "enter a :  2\n",
      "enter b :  3\n",
      "enter a operator *\n"
     ]
    },
    {
     "name": "stdout",
     "output_type": "stream",
     "text": [
      "6\n"
     ]
    }
   ],
   "source": [
    "a = int(input('enter a : '))\n",
    "b = int(input('enter b : '))\n",
    "operator = input('enter a operator')\n",
    "\n",
    "match(operator) :\n",
    "    case '+':\n",
    "        print(a+b)\n",
    "    case '-':\n",
    "        print(a-b)\n",
    "    case '*':\n",
    "        print(a*b)\n",
    "    case '/':\n",
    "        print(a/b)\n",
    "    case _:\n",
    "        print('invalid operator')\n"
   ]
  },
  {
   "cell_type": "markdown",
   "metadata": {},
   "source": [
    "### 08) WAP to read marks of five subjects. Calculate percentage and print class accordingly. \n",
    "Fail below 35 </br>\n",
    "Pass Class between 35 to 45 </br>\n",
    "Second Class</br>\n",
    "between 45 to 60</br>\n",
    "First Class between 60 to 70</br> \n",
    "Distinction if more than 70"
   ]
  },
  {
   "cell_type": "code",
   "execution_count": 64,
   "metadata": {},
   "outputs": [
    {
     "name": "stdin",
     "output_type": "stream",
     "text": [
      "enter a :  50\n",
      "enter b :  50\n",
      "enter c :  50\n",
      "enter d :  50\n",
      "enter e :  50\n"
     ]
    },
    {
     "name": "stdout",
     "output_type": "stream",
     "text": [
      "50.0\n",
      "second class\n"
     ]
    }
   ],
   "source": [
    "a = int(input('enter a : '))\n",
    "b = int(input('enter b : '))\n",
    "c = int(input('enter c : '))\n",
    "d = int(input('enter d : '))\n",
    "e = int(input('enter e : '))\n",
    "\n",
    "per = (a+b+c+d+e)/5\n",
    "print(per)\n",
    "\n",
    "if(per<35):\n",
    "    print('fail')\n",
    "elif(per>=35 and per<45):\n",
    "    print('pass')\n",
    "elif(per>=45 and per<60):\n",
    "    print('second class')\n",
    "elif(per>=60 and per<70):\n",
    "    print('first class')\n",
    "else:\n",
    "    print('distinction')"
   ]
  },
  {
   "cell_type": "markdown",
   "metadata": {},
   "source": [
    "### 09) Three sides of a triangle are entered through the keyboard, WAP to check whether the triangle is isosceles, equilateral, scalene or right-angled triangle."
   ]
  },
  {
   "cell_type": "code",
   "execution_count": 80,
   "metadata": {},
   "outputs": [
    {
     "name": "stdin",
     "output_type": "stream",
     "text": [
      "enter a :  2\n",
      "enter b :  2\n",
      "enter c :  2\n"
     ]
    },
    {
     "name": "stdout",
     "output_type": "stream",
     "text": [
      "isosceles\n"
     ]
    }
   ],
   "source": [
    "a = int(input('enter a : '))\n",
    "b = int(input('enter b : '))\n",
    "c = int(input('enter c : '))\n",
    "\n",
    "if((a==b) or (b==c) or (a==c)):\n",
    "    print('isosceles')\n",
    "elif(a==b and b==c and c==a):\n",
    "    print('equilateral')\n",
    "else:\n",
    "    print('scalene')\n",
    "    \n",
    "if(((a**2)+(b**2)==(c**2)) or ((b**2)+(c**2)==(a**2)) or ((a**2)+(c**2)==(b**2)) ):\n",
    "    print('right_angled')\n"
   ]
  },
  {
   "cell_type": "markdown",
   "metadata": {},
   "source": [
    "### 10) WAP to find the second largest number among three user input numbers."
   ]
  },
  {
   "cell_type": "code",
   "execution_count": 96,
   "metadata": {},
   "outputs": [
    {
     "name": "stdin",
     "output_type": "stream",
     "text": [
      "enter a :  2\n",
      "enter b :  4\n",
      "enter c :  1\n"
     ]
    },
    {
     "name": "stdout",
     "output_type": "stream",
     "text": [
      "2\n"
     ]
    }
   ],
   "source": [
    "a = int(input('enter a : '))\n",
    "b = int(input('enter b : '))\n",
    "c = int(input('enter c : '))\n",
    "\n",
    "if((a>b and b<c) or ((c>b and b<a))):\n",
    "    print(b)\n",
    "elif((b>a and a<c) or ((c<a and b>a))):\n",
    "    print(a)\n",
    "else:\n",
    "    print(c)"
   ]
  },
  {
   "cell_type": "markdown",
   "metadata": {},
   "source": [
    "### 11) WAP to calculate electricity bill based on following criteria. Which takes the unit from the user.\n",
    "a. First 1 to 50 units – Rs. 2.60/unit</br>\n",
    "b. Next 50 to 100 units – Rs. 3.25/unit</br>\n",
    "c. Next 100 to 200 units – Rs. 5.26/unit</br>\n",
    "d. above 200 units – Rs. 8.45/unit"
   ]
  },
  {
   "cell_type": "code",
   "execution_count": 3,
   "metadata": {},
   "outputs": [
    {
     "name": "stdin",
     "output_type": "stream",
     "text": [
      "enter units :  201\n"
     ]
    },
    {
     "name": "stdout",
     "output_type": "stream",
     "text": [
      "8.45\n"
     ]
    }
   ],
   "source": [
    "u = int(input('enter units : '))\n",
    "\n",
    "if(u>=1 and u<=50):\n",
    "    print(u*2.60)\n",
    "elif(u>50 and u<=100):\n",
    "    print((u-50)*3.25)\n",
    "elif(u>100 and u<=200):\n",
    "    print((u-100)*5.26)\n",
    "elif(u>200):\n",
    "    print((u-200)*8.45)"
   ]
  }
 ],
 "metadata": {
  "kernelspec": {
   "display_name": "Python 3 (ipykernel)",
   "language": "python",
   "name": "python3"
  },
  "language_info": {
   "codemirror_mode": {
    "name": "ipython",
    "version": 3
   },
   "file_extension": ".py",
   "mimetype": "text/x-python",
   "name": "python",
   "nbconvert_exporter": "python",
   "pygments_lexer": "ipython3",
   "version": "3.12.7"
  }
 },
 "nbformat": 4,
 "nbformat_minor": 4
}
