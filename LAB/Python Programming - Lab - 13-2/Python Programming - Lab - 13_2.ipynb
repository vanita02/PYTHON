{
 "cells": [
  {
   "cell_type": "markdown",
   "metadata": {},
   "source": [
    "<a href='https://www.darshan.ac.in/'> <img src='https://www.darshan.ac.in/Content/media/DU_Logo.svg' width=\"250\" height=\"300\"/></a>\n",
    "<pre>\n",
    "<center><b><h1>Python Programming - 2301CS404</b></center>\n",
    "<center><b><h1>kambariya vanita || 23010101125 || 11-03-2025</b></center>    \n",
    "<pre>"
   ]
  },
  {
   "cell_type": "markdown",
   "metadata": {},
   "source": [
    "## Continued.."
   ]
  },
  {
   "cell_type": "markdown",
   "metadata": {},
   "source": [
    "### 10) Calculate area of a ractangle using object as an argument to a method."
   ]
  },
  {
   "cell_type": "code",
   "execution_count": 4,
   "metadata": {},
   "outputs": [
    {
     "name": "stdout",
     "output_type": "stream",
     "text": [
      "6\n"
     ]
    }
   ],
   "source": [
    "class Rectangle:\n",
    "    def __init__(self,l,b):\n",
    "        self.l=l\n",
    "        self.b=b\n",
    "    def area(self):\n",
    "        print(self.l*self.b)\n",
    "r = Rectangle(2,3)\n",
    "r.area()"
   ]
  },
  {
   "cell_type": "markdown",
   "metadata": {},
   "source": [
    "### 11) Calculate the area of a square. \n",
    "### Include a Constructor, a method to calculate area named area() and a method named output() that prints the output and is invoked by area()."
   ]
  },
  {
   "cell_type": "code",
   "execution_count": 6,
   "metadata": {},
   "outputs": [
    {
     "name": "stdout",
     "output_type": "stream",
     "text": [
      "4\n"
     ]
    }
   ],
   "source": [
    "class Square:\n",
    "    def __init__(self,l):\n",
    "        self.l=l\n",
    "    def area(self):\n",
    "        self.output()\n",
    "    def output(self):\n",
    "        print(self.l*self.l)\n",
    "s = Square(2)\n",
    "s.area()"
   ]
  },
  {
   "cell_type": "markdown",
   "metadata": {},
   "source": [
    "### 12) Calculate the area of a rectangle. \n",
    "### Include a Constructor, a method to calculate area named area() and a method named output() that prints the output and is invoked by area().\n",
    "### Also define a class method that compares the two sides of reactangle. An object is instantiated only if the two sides are different; otherwise a message should be displayed : THIS IS SQUARE."
   ]
  },
  {
   "cell_type": "code",
   "execution_count": 59,
   "metadata": {},
   "outputs": [
    {
     "name": "stdout",
     "output_type": "stream",
     "text": [
      "Area of Rectangle: 50\n",
      "THIS IS SQUARE.\n"
     ]
    }
   ],
   "source": [
    "class Rectangle:\n",
    "    def __init__(self, length, width):\n",
    "        if length == width:\n",
    "            print(\"THIS IS SQUARE.\")\n",
    "        else:\n",
    "            self.length = length\n",
    "            self.width = width\n",
    "\n",
    "    def area(self):\n",
    "        result = self.length * self.width\n",
    "        self.output(result)\n",
    "\n",
    "    def output(self, result):\n",
    "        print(f\"Area of Rectangle: {result}\")\n",
    "\n",
    "    @classmethod\n",
    "    def compare_sides(cls, length, width):\n",
    "        if length == width:\n",
    "            return \"THIS IS SQUARE.\"\n",
    "        return \"THIS IS A RECTANGLE.\"\n",
    "\n",
    "\n",
    "rect1 = Rectangle(10, 5)  \n",
    "rect1.area() \n",
    "\n",
    "rect2 = Rectangle(6, 6) \n",
    "\n",
    "# print(Rectangle.compare_sides(8, 8)) \n",
    "# print(Rectangle.compare_sides(8, 5))  \n"
   ]
  },
  {
   "cell_type": "markdown",
   "metadata": {},
   "source": [
    "### 13) Define a class Square having a private attribute \"side\". \n",
    "### Implement get_side and set_side methods to accees the private attribute from outside of the class."
   ]
  },
  {
   "cell_type": "code",
   "execution_count": 53,
   "metadata": {},
   "outputs": [
    {
     "name": "stdout",
     "output_type": "stream",
     "text": [
      "5\n",
      "8\n"
     ]
    }
   ],
   "source": [
    "class Square:\n",
    "    def __init__(self, side):\n",
    "        self._side = side \n",
    "\n",
    "    def get_side(self):\n",
    "        return self._side\n",
    "\n",
    "    def set_side(self, new_side):\n",
    "        if new_side > 0:\n",
    "            self._side = new_side\n",
    "        else:\n",
    "            print(\"Side length must be positive.\")\n",
    "\n",
    "\n",
    "square = Square(5)\n",
    "print(square.get_side())  \n",
    "\n",
    "square.set_side(8)\n",
    "print(square.get_side())\n"
   ]
  },
  {
   "cell_type": "markdown",
   "metadata": {},
   "source": [
    "### 14) Create a class Profit that has a method named getProfit that accepts profit from the user.\n",
    "### Create a class Loss that has a method named getLoss that accepts loss from the user.\n",
    "### Create a class BalanceSheet that inherits from both classes Profit and Loss and calculates the balanace. It has two methods getBalance() and printBalance()."
   ]
  },
  {
   "cell_type": "code",
   "execution_count": 61,
   "metadata": {},
   "outputs": [
    {
     "name": "stdin",
     "output_type": "stream",
     "text": [
      "Enter the profit amount:  1000\n",
      "Enter the loss amount:  90\n"
     ]
    },
    {
     "name": "stdout",
     "output_type": "stream",
     "text": [
      "Net Balance: 910.0\n"
     ]
    }
   ],
   "source": [
    "class Profit:\n",
    "    def getProfit(self):\n",
    "        self.profit = float(input(\"Enter the profit amount: \"))\n",
    "\n",
    "class Loss:\n",
    "    def getLoss(self):\n",
    "        self.loss = float(input(\"Enter the loss amount: \"))\n",
    "\n",
    "class BalanceSheet(Profit, Loss):\n",
    "    def getBalance(self):\n",
    "        self.balance = self.profit - self.loss\n",
    "\n",
    "    def printBalance(self):\n",
    "        print(f\"Net Balance: {self.balance}\")\n",
    "\n",
    "bs = BalanceSheet()\n",
    "bs.getProfit()  \n",
    "bs.getLoss()    \n",
    "bs.getBalance()\n",
    "bs.printBalance()  \n"
   ]
  },
  {
   "attachments": {},
   "cell_type": "markdown",
   "metadata": {},
   "source": [
    "### 15) WAP to demonstrate all types of inheritance."
   ]
  },
  {
   "cell_type": "code",
   "execution_count": 69,
   "metadata": {},
   "outputs": [
    {
     "name": "stdout",
     "output_type": "stream",
     "text": [
      "Single Inheritance: Parent class\n",
      "Child class inherits from Parent\n",
      "----------------------------------------\n",
      "Multiple Inheritance: Trait from Father\n",
      "Trait from Mother\n",
      "Child inherits from both Father and Mother\n",
      "----------------------------------------\n",
      "Multilevel Inheritance: Trait from Grandparent\n",
      "Trait from Parent\n",
      "Child inherits from Parent and Grandparent\n",
      "----------------------------------------\n",
      "Hierarchical Inheritance: Parent class method\n",
      "Child1 inherits from Parent\n",
      "Hierarchical Inheritance: Parent class method\n",
      "Child2 inherits from Parent\n",
      "----------------------------------------\n",
      "Hybrid Inheritance: Class A method\n",
      "Class B inherits from A\n",
      "Class C inherits from A\n",
      "Class D inherits from both B and C\n"
     ]
    }
   ],
   "source": [
    "# 1. Single Inheritance\n",
    "class A:\n",
    "    def show(self):\n",
    "        print(\"Single Inheritance: Parent class\")\n",
    "\n",
    "class B(A):\n",
    "    def display(self):\n",
    "        print(\"Child class inherits from Parent\")\n",
    "\n",
    "single = B()\n",
    "single.show()\n",
    "single.display()\n",
    "print(\"-\" * 40)\n",
    "\n",
    "# 2. Multiple Inheritance\n",
    "class Father:\n",
    "    def father_trait(self):\n",
    "        print(\"Multiple Inheritance: Trait from Father\")\n",
    "\n",
    "class Mother:\n",
    "    def mother_trait(self):\n",
    "        print(\"Trait from Mother\")\n",
    "\n",
    "class Child(Father, Mother):\n",
    "    def child_trait(self):\n",
    "        print(\"Child inherits from both Father and Mother\")\n",
    "\n",
    "multiple = Child()\n",
    "multiple.father_trait()\n",
    "multiple.mother_trait()\n",
    "multiple.child_trait()\n",
    "print(\"-\" * 40)\n",
    "\n",
    "# 3. Multilevel Inheritance\n",
    "class Grandparent:\n",
    "    def grandparent_trait(self):\n",
    "        print(\"Multilevel Inheritance: Trait from Grandparent\")\n",
    "\n",
    "class Parent(Grandparent):\n",
    "    def parent_trait(self):\n",
    "        print(\"Trait from Parent\")\n",
    "\n",
    "class Child(Parent):\n",
    "    def child_trait(self):\n",
    "        print(\"Child inherits from Parent and Grandparent\")\n",
    "\n",
    "multilevel = Child()\n",
    "multilevel.grandparent_trait()\n",
    "multilevel.parent_trait()\n",
    "multilevel.child_trait()\n",
    "print(\"-\" * 40)\n",
    "\n",
    "# 4. Hierarchical Inheritance\n",
    "class Parent:\n",
    "    def parent_method(self):\n",
    "        print(\"Hierarchical Inheritance: Parent class method\")\n",
    "\n",
    "class Child1(Parent):\n",
    "    def child1_method(self):\n",
    "        print(\"Child1 inherits from Parent\")\n",
    "\n",
    "class Child2(Parent):\n",
    "    def child2_method(self):\n",
    "        print(\"Child2 inherits from Parent\")\n",
    "\n",
    "hierarchical1 = Child1()\n",
    "hierarchical1.parent_method()\n",
    "hierarchical1.child1_method()\n",
    "\n",
    "hierarchical2 = Child2()\n",
    "hierarchical2.parent_method()\n",
    "hierarchical2.child2_method()\n",
    "print(\"-\" * 40)\n",
    "\n",
    "# 5. Hybrid Inheritance (Combination of multiple types)\n",
    "class A:\n",
    "    def method_A(self):\n",
    "        print(\"Hybrid Inheritance: Class A method\")\n",
    "\n",
    "class B(A):\n",
    "    def method_B(self):\n",
    "        print(\"Class B inherits from A\")\n",
    "\n",
    "class C(A):\n",
    "    def method_C(self):\n",
    "        print(\"Class C inherits from A\")\n",
    "\n",
    "class D(B, C):\n",
    "    def method_D(self):\n",
    "        print(\"Class D inherits from both B and C\")\n",
    "\n",
    "hybrid = D()\n",
    "hybrid.method_A()\n",
    "hybrid.method_B()\n",
    "hybrid.method_C()\n",
    "hybrid.method_D()\n"
   ]
  },
  {
   "cell_type": "markdown",
   "metadata": {},
   "source": [
    "### 16) Create a Person class with a constructor that takes two arguments name and age. \n",
    "### Create a child class Employee that inherits from Person and adds a new attribute salary. \n",
    "### Override the __init__ method in Employee to call the parent class's __init__ method using the super() and then initialize the salary attribute."
   ]
  },
  {
   "cell_type": "code",
   "execution_count": 63,
   "metadata": {},
   "outputs": [
    {
     "name": "stdout",
     "output_type": "stream",
     "text": [
      "Name: Alice, Age: 30, Salary: 50000\n"
     ]
    }
   ],
   "source": [
    "class Person:\n",
    "    def __init__(self, name, age):\n",
    "        self.name = name\n",
    "        self.age = age\n",
    "\n",
    "class Employee(Person):\n",
    "    def __init__(self, name, age, salary):\n",
    "        super().__init__(name, age) \n",
    "        self.salary = salary\n",
    "\n",
    "    def display(self):\n",
    "        print(f\"Name: {self.name}, Age: {self.age}, Salary: {self.salary}\")\n",
    "\n",
    "emp = Employee(\"Alice\", 30, 50000)\n",
    "emp.display()\n"
   ]
  },
  {
   "cell_type": "markdown",
   "metadata": {},
   "source": [
    "### 17) Create a Shape class with a draw method that is not implemented. \n",
    "### Create three child classes Rectangle, Circle, and Triangle that implement the draw method with their respective drawing behaviors. \n",
    "### Create a list of Shape objects that includes one instance of each child class, and then iterate through the list and call the draw method on each object."
   ]
  },
  {
   "cell_type": "code",
   "execution_count": 65,
   "metadata": {},
   "outputs": [
    {
     "name": "stdout",
     "output_type": "stream",
     "text": [
      "Drawing a Rectangle\n",
      "Drawing a Circle\n",
      "Drawing a Triangle\n"
     ]
    }
   ],
   "source": [
    "from abc import ABC, abstractmethod\n",
    "\n",
    "class Shape(ABC):\n",
    "    @abstractmethod\n",
    "    def draw(self):\n",
    "        pass  \n",
    "\n",
    "class Rectangle(Shape):\n",
    "    def draw(self):\n",
    "        print(\"Drawing a Rectangle\")\n",
    "\n",
    "class Circle(Shape):\n",
    "    def draw(self):\n",
    "        print(\"Drawing a Circle\")\n",
    "\n",
    "class Triangle(Shape):\n",
    "    def draw(self):\n",
    "        print(\"Drawing a Triangle\")\n",
    "\n",
    "shapes = [Rectangle(), Circle(), Triangle()]\n",
    "\n",
    "for shape in shapes:\n",
    "    shape.draw()\n"
   ]
  }
 ],
 "metadata": {
  "kernelspec": {
   "display_name": "Python 3 (ipykernel)",
   "language": "python",
   "name": "python3"
  },
  "language_info": {
   "codemirror_mode": {
    "name": "ipython",
    "version": 3
   },
   "file_extension": ".py",
   "mimetype": "text/x-python",
   "name": "python",
   "nbconvert_exporter": "python",
   "pygments_lexer": "ipython3",
   "version": "3.12.7"
  }
 },
 "nbformat": 4,
 "nbformat_minor": 4
}
